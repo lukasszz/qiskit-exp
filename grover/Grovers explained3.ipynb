{
 "cells": [
  {
   "cell_type": "markdown",
   "metadata": {},
   "source": [
    "# Grover's algorithm explained"
   ]
  },
  {
   "cell_type": "markdown",
   "metadata": {},
   "source": [
    "## TODO\n",
    "\n",
    "**1. Only one solution?**\n",
    "\n",
    "What about 3sat problem: https://community.qiskit.org/textbook/ch-applications/satisfiability-grover.html?\n",
    "And this: https://community.qiskit.org/textbook/ch-algorithms/grover.html\n",
    "\n",
    "      "
   ]
  },
  {
   "cell_type": "markdown",
   "metadata": {},
   "source": [
    "The purpose of the Grover's algorithm is to amplify the amplitude probabilty for the desierd state. The state is evluated by the oracle function. The functions should return `1` only for the desierd state and `0` for **all the other states**. It is not designed for the problem that have multiple soutions.\n",
    "\n",
    "The advantage is that it is done withuot checking all the possbile states one by one, but by using the superposition of states and appying the oracle once (or in couple fo iteration).\n",
    "\n",
    "The Groover algorithm is not designed for finding for the element in unstructed set for giving the aditional information abut it - eg. its possition in the set. It is designed for amplifing the probabilty amplitdue of the desierd state from the superpostion of states.\n",
    "\n",
    "\n",
    "It colud be usefull when you don't know the solution, but know the requirements it have to met, under the conditions:\n",
    "    - there is only one solution of the problem,\n",
    "    - the solution can be computed using only (and the whole) input state,\n",
    "\n",
    "\n",
    "Like all quantum computer algorithms, Grover's algorithm is probabilistic, in the sense that it gives the correct answer with high probability. The probability of failure can be decreased by repeating the algorithm. [4]\n",
    "\n",
    "\n",
    "## Not for database search\n",
    "\n",
    "It will not be useful for database search for direct retriving an object (or its index) asking only for subset of its properties.\n",
    "\n",
    "> Grover's algorithm does not have an advantage when searching an unordered database, because encoding the oracle into a circuit requires Ω(n) operations. You can prove this with a simple circuit counting argument. If the circuit had size O(n0.99) then there would be fewer distinct circuits than distinct oracles. So the actual operational complexity is Ω~(n1.5), even though the query complexity is O(n0.5).Grover's algorithm only has an advantage when the thing you are searching over is abstract, like possible solutions to a SAT problem, as opposed to literally stored in hardware somewhere, like a database. [3]\n",
    "\n",
    "> The Grover’s algorithm is not intended to ﬁnd an element in a database, its purpose is searching through a function inputs to check whether the function returns true for a particular input.** [2]\n",
    "\n",
    "\n",
    "## The procedure\n",
    "\n",
    "The procedure for the Groover's algorithm is as follows:\n",
    "\n",
    "1. Design the oracle for the quantum state that marks the only desired state.\n",
    "2. Start the iteration:\n",
    "\n",
    "    1. Set all the qubits into the superpostions state.\n",
    "    2. Apply the Oracle for the circuit and save the outcome in the Oracle's ancilla qubit.\n",
    "    3. Revert the pattern from the circuit - reverse the quantum circuit, that applied the pattern.\n",
    "    4. Amplify amplitude the states thanks to phase kick back \n",
    "\n",
    "\n"
   ]
  },
  {
   "cell_type": "code",
   "execution_count": 1,
   "metadata": {},
   "outputs": [],
   "source": [
    "from qiskit import QuantumRegister, ClassicalRegister, QuantumCircuit, execute, Aer\n",
    "from qiskit.tools.visualization import plot_histogram"
   ]
  },
  {
   "cell_type": "code",
   "execution_count": 24,
   "metadata": {},
   "outputs": [
    {
     "data": {
      "text/plain": [
       "<qiskit.circuit.instructionset.InstructionSet at 0x7fe17aeb0b10>"
      ]
     },
     "execution_count": 24,
     "metadata": {},
     "output_type": "execute_result"
    }
   ],
   "source": [
    "state = QuantumRegister(4)\n",
    "stateb = ClassicalRegister(4) # bits for states measurements\n",
    "ancilla = QuantumRegister(1)  # auxiliary variable\n",
    "tmp = QuantumRegister(2)      # for the apmplification mct gate\n",
    "circ = QuantumCircuit()\n",
    "circ.add_register(state, stateb, ancilla, tmp)\n",
    "\n",
    "def prepare_system():\n",
    "    circ.x(ancilla)  # X on ancilla qbit\n",
    "    circ.h(state) # Put the state qubits into superpostion of states\n",
    "\n",
    "def oracle_apply_pattern():\n",
    "    \"\"\" Apply the pattern to find the state 1001 \"\"\"\n",
    "    circ.x(state[1])\n",
    "    circ.x(state[2])\n",
    "\n",
    "def oracle_store_res():\n",
    "    \"\"\" Store the result of the pattern apply into the ancilla bit\"\"\"\n",
    "    circ.h(ancilla)\n",
    "    circ.mct([state[0], state[1], state[2], state[3]], ancilla[0], tmp, mode = 'basic')\n",
    "    circ.h(ancilla)\n",
    "\n",
    "def oracle_revert_pattern():    \n",
    "    \"\"\" Revert all operation from the oracle, that the qubits.\n",
    "        It is done by running this part of circuit in reverse order\n",
    "    \"\"\"\n",
    "    circ.x(state[2])\n",
    "    circ.x(state[1])\n",
    "\n",
    "def amplitude_amplify():\n",
    "    \"\"\" Amplify the amplitude of the states using the ancilla phase kick bak effect\"\"\"\n",
    "    circ.h(state)\n",
    "    circ.x(state)\n",
    "\n",
    "    circ.h(state[3])\n",
    "    circ.mct([state[0], state[1], state[2]], state[3], tmp)\n",
    "    circ.h(state[3])\n",
    "\n",
    "    circ.x(state)\n",
    "    circ.h(state)\n",
    "\n",
    "# Grover's algorithm    \n",
    "prepare_system()    \n",
    "for i in range(2): # Two iteration for this example is enough, more iteration will degradate the solution\n",
    "    oracle_apply_pattern()\n",
    "    oracle_store_res()\n",
    "    oracle_revert_pattern()    \n",
    "    amplify_amplitude()\n",
    "circ.measure(state, stateb)\n",
    "\n",
    "# circ.draw(output='mpl')\n"
   ]
  },
  {
   "cell_type": "code",
   "execution_count": 25,
   "metadata": {},
   "outputs": [
    {
     "data": {
      "image/png": "[encoded data removed]",
      "text/plain": [
       "<Figure size 504x360 with 1 Axes>"
      ]
     },
     "execution_count": 25,
     "metadata": {},
     "output_type": "execute_result"
    }
   ],
   "source": [
    "# Run the program\n",
    "backend = Aer.get_backend('qasm_simulator')\n",
    "job = execute(circ, backend=backend, shots=1024)\n",
    "st = job.result().get_counts()\n",
    "plot_histogram(st)"
   ]
  },
  {
   "cell_type": "markdown",
   "metadata": {},
   "source": [
    "[1](http://localhost:8889/notebooks/algorithms/grover_algorithm.ipynb)\n",
    "[2](http://dkopczyk.quantee.co.uk/grover-search/)\n",
    "[3](https://quantumcomputing.stackexchange.com/questions/6325/grover-algorithm-for-a-database-search-where-is-the-quantum-advantage)\n",
    "[4](https://www.quantiki.org/wiki/grovers-search-algorithm)"
   ]
  },
  {
   "cell_type": "markdown",
   "metadata": {},
   "source": [
    "## Questions\n",
    "\n",
    "1. **Does this algo can find more than only one solution?**\n",
    "2. Why more iteration destory the output?"
   ]
  },
  {
   "cell_type": "code",
   "execution_count": null,
   "metadata": {},
   "outputs": [],
   "source": []
  }
 ],
 "metadata": {
  "kernelspec": {
   "display_name": "Python 3",
   "language": "python",
   "name": "python3"
  },
  "language_info": {
   "codemirror_mode": {
    "name": "ipython",
    "version": 3
   },
   "file_extension": ".py",
   "mimetype": "text/x-python",
   "name": "python",
   "nbconvert_exporter": "python",
   "pygments_lexer": "ipython3",
   "version": "3.7.4"
  }
 },
 "nbformat": 4,
 "nbformat_minor": 2
}
