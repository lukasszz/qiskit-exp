{
 "cells": [
  {
   "cell_type": "markdown",
   "metadata": {},
   "source": [
    "# Grover's algorithm explained"
   ]
  },
  {
   "cell_type": "markdown",
   "metadata": {},
   "source": [
    "All the simple examples of the Groover algorithm are not for searching the set, but for amplification of the amplitude probability for the already known state. The real purpose of the Groover algorithm is to find a solution according to known input states using the functions. The advantage is that it is done withuot checking all the elements one by one, but using the superposition of states checking all of them at once.\n",
    "It will not be useful for database search where we want to find an index holding the desired value. It is that we need to know to know the whole quantum state to desing the oracle.\n",
    "\n",
    "Moreover the function should be prepared as it returns 1 only for one of all the possilbe states (only one solution) all other states must return 0. So if the problem has multiple solution (find all odd states) the Grover algorith is not suitable for this task. Desiging the function (oracle), you have to be sure that it will return only one solution (!).\n",
    "\n",
    "It could be useful when all the below conditions are met:\n",
    "\n",
    "    - there is only one solution of the problem\n",
    "    - the solution can be computed using the input state\n",
    "    - the result of the algo is the state that meets the function conditions.\n",
    "\n",
    "It colud be usefull when you don't know the solution, but know the requirements it have to met.\n",
    "For the database search it wolud be useful when:\n",
    "\n",
    "    - all the data are loaded into one entglament state \n",
    "\n",
    "It is even not enough to the pattern on the part of the qubits form the full state. Eg. When you would like to make te state address+value, and do the pattern only for the value part. Your pattern have to point the whole qubit state.\n",
    "\n",
    "Grover search is algorithm used for searching a solution among many possible candidates using Quantum Computers.\n",
    "**The Grover’s algorithm is not intended to ﬁnd an element in a database, its purpose is searching through a function inputs to check whether the function returns true for a particular input.** [2]\n",
    "\n",
    "\n",
    "Grover's algorithm does not have an advantage when searching an unordered database, because encoding the oracle into a circuit requires Ω~(n) operations. You can prove this with a simple circuit counting argument. If the circuit had size O(n0.99) then there would be fewer distinct circuits than distinct oracles. So the actual operational complexity is Ω~(n1.5), even though the query complexity is O(n0.5).Grover's algorithm only has an advantage when the thing you are searching over is abstract, like possible solutions to a SAT problem, as opposed to literally stored in hardware somewhere, like a database. [3]\n",
    "\n",
    "Like all quantum computer algorithms, Grover's algorithm is probabilistic, in the sense that it gives the correct answer with high probability. The probability of failure can be decreased by repeating the algorithm. [4]\n",
    "\n",
    "\n",
    "The procedure for the Groover's algorithm is as follows:\n",
    "\n",
    "1. Design the pattern (gate set) for the quantum state that marks the desired states (Oracle).\n",
    "2. Start the iteration\n",
    "\n",
    "    1. Set all the qubits into the superpostions state.\n",
    "    2. Apply the Oracle for the circuit and save the outcome in the Oracle's ancilla qubit.\n",
    "    3. Revert the pattern from the circuit - reverse the quantum circuit, that applied the pattern.\n",
    "    4. Amplify amplitude the states thanks to phase kick back \n",
    "\n",
    "5. Repeat the steps from 2 to 4.\n"
   ]
  },
  {
   "cell_type": "markdown",
   "metadata": {},
   "source": [
    "## \"Search the state\"\n",
    "\n",
    "We will use the ancilla bit aproach. It will give the phase kick back to the desierd state, that will be amplified."
   ]
  },
  {
   "cell_type": "code",
   "execution_count": 1,
   "metadata": {},
   "outputs": [],
   "source": [
    "from qiskit import QuantumRegister, ClassicalRegister, QuantumCircuit, execute, Aer\n",
    "from qiskit.tools.visualization import plot_histogram"
   ]
  },
  {
   "cell_type": "markdown",
   "metadata": {},
   "source": [
    "As we see only the state 10 was amplified."
   ]
  },
  {
   "cell_type": "markdown",
   "metadata": {},
   "source": [
    "## Search for staes witt only odd 1\n",
    "Not possible it searches only for one solution."
   ]
  },
  {
   "cell_type": "code",
   "execution_count": 13,
   "metadata": {},
   "outputs": [
    {
     "data": {
      "text/plain": [
       "<qiskit.circuit.instructionset.InstructionSet at 0x7f5856340990>"
      ]
     },
     "execution_count": 13,
     "metadata": {},
     "output_type": "execute_result"
    }
   ],
   "source": [
    "state = QuantumRegister(4)\n",
    "stateb = ClassicalRegister(4) # bits for states measurements\n",
    "ancilla = QuantumRegister(1)  # auxiliary variable\n",
    "tmp = QuantumRegister(2)  # for the apmplification mct gate\n",
    "circ = QuantumCircuit()\n",
    "circ.add_register(state, stateb, ancilla, tmp)\n",
    "\n",
    "# 1. step - Prepartion\n",
    "circ.x(ancilla)  # X on ancilla qbit\n",
    "\n",
    "# circ.h(state) # Put the state qubits into superpostion of states\n",
    "# uniqe values under uniqie adresses\n",
    "# addr 00 val 01 |0001>\n",
    "# addr 01 val 10 |0100>\n",
    "# addr 10 val 11 |1011>\n",
    "# addr 11 val 01 |1101>\n",
    "alpha = 0.5\n",
    "circ.initialize([0, alpha, 0, 0,\n",
    "                alpha , 0, 0 , 0,\n",
    "                0 , 0, 0 , alpha,\n",
    "                0 , alpha, 0 , 0,\n",
    "                ], state)\n",
    "\n",
    "circ.barrier() # added for circuit readability\n",
    "# Iteration:\n",
    "\n",
    "for i in range(2): # Only one iteration for this example is enough, more iteration will destroy the solution\n",
    "    # 2. apply Oracle search for value 11\n",
    "#     circ.x(state[3]) \n",
    "#     circ.x(state[2])\n",
    "#     circ.x(state[0])\n",
    "    # store result in ancilla\n",
    "    circ.h(ancilla)\n",
    "    circ.mct([state[0], state[1], state[2], state[3]], ancilla[0], tmp, mode = 'basic')\n",
    "    circ.h(ancilla)\n",
    "    circ.barrier() # added for circuit readability\n",
    "\n",
    "    # 3. Revert all operation from the oracle, that modified other qubits  (revers order)\n",
    "#     circ.x(state[0])   \n",
    "#     circ.x(state[2])\n",
    "#     circ.x(state[3]) \n",
    "    \n",
    "    \n",
    "    \n",
    "    circ.barrier() # added for circuit readability\n",
    "\n",
    "    # 4. Amplify the amplitude\n",
    "    # inversion_about_average\n",
    "    circ.h(state)\n",
    "    circ.x(state)\n",
    "\n",
    "    circ.h(state[3])\n",
    "    circ.mct([state[0], state[1], state[2]], state[3], tmp)\n",
    "    circ.h(state[3])\n",
    "\n",
    "    circ.x(state)\n",
    "    circ.h(state)\n",
    "    circ.barrier() # added for circuit readability\n",
    "\n",
    "circ.measure(state, stateb)\n",
    "# circ.draw(output='mpl')\n"
   ]
  },
  {
   "cell_type": "code",
   "execution_count": 14,
   "metadata": {},
   "outputs": [
    {
     "data": {
      "image/png": "[encoded data removed]",
      "text/plain": [
       "<Figure size 504x360 with 1 Axes>"
      ]
     },
     "execution_count": 14,
     "metadata": {},
     "output_type": "execute_result"
    }
   ],
   "source": [
    "# Run the program\n",
    "backend = Aer.get_backend('qasm_simulator')\n",
    "job = execute(circ, backend=backend, shots=1024)\n",
    "st = job.result().get_counts()\n",
    "plot_histogram(st)"
   ]
  },
  {
   "cell_type": "markdown",
   "metadata": {},
   "source": [
    "[1](http://localhost:8889/notebooks/algorithms/grover_algorithm.ipynb)\n",
    "[2](http://dkopczyk.quantee.co.uk/grover-search/)\n",
    "[3](https://quantumcomputing.stackexchange.com/questions/6325/grover-algorithm-for-a-database-search-where-is-the-quantum-advantage)\n",
    "[4](https://www.quantiki.org/wiki/grovers-search-algorithm)"
   ]
  },
  {
   "cell_type": "markdown",
   "metadata": {},
   "source": [
    "## Questions\n",
    "\n",
    "1. **Does this algo can find more than only one solution?**\n",
    "2. Why more iteration destory the output?"
   ]
  },
  {
   "cell_type": "code",
   "execution_count": null,
   "metadata": {},
   "outputs": [],
   "source": []
  }
 ],
 "metadata": {
  "kernelspec": {
   "display_name": "Python 3",
   "language": "python",
   "name": "python3"
  },
  "language_info": {
   "codemirror_mode": {
    "name": "ipython",
    "version": 3
   },
   "file_extension": ".py",
   "mimetype": "text/x-python",
   "name": "python",
   "nbconvert_exporter": "python",
   "pygments_lexer": "ipython3",
   "version": "3.7.4"
  }
 },
 "nbformat": 4,
 "nbformat_minor": 2
}
