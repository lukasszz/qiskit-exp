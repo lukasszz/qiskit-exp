{
 "cells": [
  {
   "cell_type": "markdown",
   "metadata": {},
   "source": [
    "# Buliding quantum gates in numpy"
   ]
  },
  {
   "cell_type": "code",
   "execution_count": 1,
   "metadata": {},
   "outputs": [],
   "source": [
    "import numpy as np\n",
    "from qiskit.extensions import HGate, CnotGate, IdGate, XGate, CzGate, ZGate\n",
    "\n",
    "# We can build the matrix on our own\n",
    "H = 1./np.sqrt(2) * np.array([[1, 1],\n",
    "                              [1, -1]])\n",
    "\n",
    "# or just import it from qiskit\n",
    "I = IdGate().to_matrix()\n",
    "\n",
    "Hq0 = np.kron(np.kron(H,I), I)\n",
    "Hq1 = np.kron(np.kron(I,H), I)\n",
    "Hq2 = np.kron(np.kron(I,I), H)\n",
    "Hq012 = np.kron(np.kron(H,H),H)\n",
    "\n"
   ]
  },
  {
   "cell_type": "code",
   "execution_count": 2,
   "metadata": {},
   "outputs": [
    {
     "data": {
      "text/plain": [
       "array([[1.],\n",
       "       [0.],\n",
       "       [0.],\n",
       "       [0.],\n",
       "       [0.],\n",
       "       [0.],\n",
       "       [0.],\n",
       "       [0.]])"
      ]
     },
     "execution_count": 2,
     "metadata": {},
     "output_type": "execute_result"
    }
   ],
   "source": [
    "import numpy as np\n",
    "zero = np.array([[1.],\n",
    "                 [0.]]) \n",
    "\n",
    "state = np.kron(np.kron(zero, zero), zero)\n",
    "state"
   ]
  },
  {
   "cell_type": "code",
   "execution_count": 3,
   "metadata": {},
   "outputs": [
    {
     "data": {
      "text/plain": [
       "array([[0.35355339],\n",
       "       [0.35355339],\n",
       "       [0.35355339],\n",
       "       [0.35355339],\n",
       "       [0.35355339],\n",
       "       [0.35355339],\n",
       "       [0.35355339],\n",
       "       [0.35355339]])"
      ]
     },
     "execution_count": 3,
     "metadata": {},
     "output_type": "execute_result"
    }
   ],
   "source": [
    "np.dot(Hq012, state)"
   ]
  },
  {
   "cell_type": "markdown",
   "metadata": {},
   "source": [
    "Step by step"
   ]
  },
  {
   "cell_type": "code",
   "execution_count": 4,
   "metadata": {},
   "outputs": [
    {
     "name": "stdout",
     "output_type": "stream",
     "text": [
      "[[0.70710678+0.j]\n",
      " [0.        +0.j]\n",
      " [0.        +0.j]\n",
      " [0.        +0.j]\n",
      " [0.70710678+0.j]\n",
      " [0.        +0.j]\n",
      " [0.        +0.j]\n",
      " [0.        +0.j]]\n",
      "[[0.5+0.j]\n",
      " [0. +0.j]\n",
      " [0.5+0.j]\n",
      " [0. +0.j]\n",
      " [0.5+0.j]\n",
      " [0. +0.j]\n",
      " [0.5+0.j]\n",
      " [0. +0.j]]\n",
      "[[0.35355339+0.j]\n",
      " [0.35355339+0.j]\n",
      " [0.35355339+0.j]\n",
      " [0.35355339+0.j]\n",
      " [0.35355339+0.j]\n",
      " [0.35355339+0.j]\n",
      " [0.35355339+0.j]\n",
      " [0.35355339+0.j]]\n"
     ]
    }
   ],
   "source": [
    "state = np.dot(Hq0, state)\n",
    "print(state)\n",
    "state = np.dot(Hq1, state)\n",
    "print(state)\n",
    "state = np.dot(Hq2, state)\n",
    "print(state)"
   ]
  },
  {
   "cell_type": "markdown",
   "metadata": {},
   "source": [
    "$$\n",
    "\\begin{alignat}{2}\n",
    "\\mathit{CX}_{1,3} \\;&amp;=&amp;\\;\n",
    "\\underbrace{\\ket{0}\\!\\bra{0}}_{\\text{control}} \\otimes \\underbrace{\\;\\mathbf 1_2\\;}_{\\!\\!\\!\\!\\text{uninvolved}\\!\\!\\!\\!} \\otimes \\underbrace{\\;\\mathbf 1_2\\;}_{\\!\\!\\!\\!\\text{target}\\!\\!\\!\\!}\n",
    "&amp;+\\,\n",
    "\\underbrace{\\ket{1}\\!\\bra{1}}_{\\text{control}} \\otimes \\underbrace{\\;\\mathbf 1_2\\;}_{\\!\\!\\!\\!\\text{uninvolved}\\!\\!\\!\\!} \\otimes \\underbrace{\\; X\\;}_{\\!\\!\\!\\!\\text{target}\\!\\!\\!\\!}\n",
    "\\\\[1ex]&amp;=&amp;\\;\n",
    "\\begin{bmatrix}\n",
    "  \\mathbf 1_2 &amp; \\mathbf 0_2 &amp; \\phantom{\\mathbf 0_2} &amp; \\phantom{\\mathbf 0_2} \\\\\n",
    "  \\mathbf 0_2 &amp; \\mathbf 1_2 &amp; \\phantom{\\mathbf 0_2} &amp; \\phantom{\\mathbf 0_2} \\\\\n",
    "  \\phantom{\\mathbf 0_2} &amp; \\phantom{\\mathbf 0_2} &amp; \\phantom{\\mathbf 0_2} &amp; \\phantom{\\mathbf 0_2} \\\\\n",
    "  \\phantom{\\mathbf 0_2} &amp; \\phantom{\\mathbf 0_2} &amp; \\phantom{\\mathbf 0_2} &amp; \\phantom{\\mathbf 0_2}\n",
    "\\end{bmatrix}\n",
    "\\,&amp;+\\,\n",
    "\\begin{bmatrix}\n",
    "  \\phantom{\\mathbf 0_2} &amp; \\phantom{\\mathbf 0_2} &amp; \\phantom{\\mathbf 0_2} &amp; \\phantom{\\mathbf 0_2} \\\\\n",
    "  \\phantom{\\mathbf 0_2} &amp; \\phantom{\\mathbf 0_2} &amp; \\phantom{\\mathbf 0_2} &amp; \\phantom{\\mathbf 0_2} \\\\\n",
    "  \\phantom{\\mathbf 0_2} &amp; \\phantom{\\mathbf 0_2} &amp; X &amp; \\mathbf 0_2 \\\\\n",
    "  \\phantom{\\mathbf 0_2} &amp; \\phantom{\\mathbf 0_2} &amp; {\\mathbf 0_2} &amp; X\n",
    "\\end{bmatrix}\n",
    "\\end{alignat}\n",
    "$$"
   ]
  }
 ],
 "metadata": {
  "kernelspec": {
   "display_name": "Python 3",
   "language": "python",
   "name": "python3"
  },
  "language_info": {
   "codemirror_mode": {
    "name": "ipython",
    "version": 3
   },
   "file_extension": ".py",
   "mimetype": "text/x-python",
   "name": "python",
   "nbconvert_exporter": "python",
   "pygments_lexer": "ipython3",
   "version": "3.7.4"
  }
 },
 "nbformat": 4,
 "nbformat_minor": 2
}
