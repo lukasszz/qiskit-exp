{
 "cells": [
  {
   "cell_type": "code",
   "execution_count": 140,
   "metadata": {},
   "outputs": [],
   "source": [
    "#initialization\n",
    "import matplotlib.pyplot as plt\n",
    "%matplotlib inline\n",
    "import numpy as np\n",
    "\n",
    "# importing Qiskit\n",
    "from qiskit import IBMQ, Aer\n",
    "from qiskit.providers.ibmq import least_busy\n",
    "from qiskit import QuantumCircuit, ClassicalRegister, QuantumRegister, execute\n",
    "\n",
    "# import basic plot tools\n",
    "from qiskit.tools.visualization import plot_histogram\n",
    "\n",
    "simulator = Aer.get_backend('qasm_simulator')\n",
    "simulator_vec= Aer.get_backend('statevector_simulator')"
   ]
  },
  {
   "cell_type": "code",
   "execution_count": 118,
   "metadata": {},
   "outputs": [
    {
     "data": {
      "image/png": "[encoded data removed]",
      "text/plain": [
       "<Figure size 298.592x204.68 with 1 Axes>"
      ]
     },
     "execution_count": 118,
     "metadata": {},
     "output_type": "execute_result"
    }
   ],
   "source": [
    "q = QuantumRegister(2)\n",
    "c = ClassicalRegister(2)\n",
    "circ = QuantumCircuit()\n",
    "circ.add_register(q)\n",
    "circ.add_register(c)\n",
    "\n",
    "circ.h(q[0])\n",
    "circ.measure(q, c)\n",
    "circ.draw(output='mpl')"
   ]
  },
  {
   "cell_type": "code",
   "execution_count": 119,
   "metadata": {},
   "outputs": [
    {
     "name": "stdout",
     "output_type": "stream",
     "text": [
      "{'00': 490, '01': 534}\n"
     ]
    },
    {
     "data": {
      "image/png": "[encoded data removed]",
      "text/plain": [
       "<Figure size 504x360 with 1 Axes>"
      ]
     },
     "execution_count": 119,
     "metadata": {},
     "output_type": "execute_result"
    }
   ],
   "source": [
    "job = execute(circ, backend=simulator, shots=1024)\n",
    "st = job.result().get_counts()\n",
    "print(st)\n",
    "plot_histogram(st)\n"
   ]
  },
  {
   "cell_type": "code",
   "execution_count": 188,
   "metadata": {},
   "outputs": [],
   "source": [
    "import numpy as np\n",
    "from qiskit.extensions import HGate, CnotGate, IdGate, XGate, CzGate\n",
    "\n",
    "H = HGate().to_matrix()\n",
    "I = IdGate().to_matrix()\n",
    "X = XGate().to_matrix()\n",
    "Cz = CzGate().to_matrix()\n",
    "CX01 = CnotGate().to_matrix()\n",
    "\n",
    "#reg = np.array([[1., 1.],\n",
    "#               [0., 0.]], dtype=complex) \n",
    "\n",
    "zero = np.array([[1.],\n",
    "                 [0.]])\n",
    "qr = np.kron(zero, zero)\n",
    "X_q0 = np.kron(I, X)\n",
    "X_q1 = np.kron(X, I) # q1q0: little endian\n",
    "H_q0 = np.kron(H, I) # q1q0: little endian\n",
    "H_q1 = np.kron(H, I) # q1q0: little endian\n"
   ]
  },
  {
   "cell_type": "code",
   "execution_count": 172,
   "metadata": {},
   "outputs": [
    {
     "name": "stdout",
     "output_type": "stream",
     "text": [
      "{'10': 1}\n",
      "[0.+0.j 0.+0.j 1.+0.j 0.+0.j]\n"
     ]
    }
   ],
   "source": [
    "circ = QuantumCircuit()\n",
    "circ.add_register(q)\n",
    "circ.add_register(c)\n",
    "\n",
    "circ.x(q[1])\n",
    "circ.measure(q, c)\n",
    "job = execute(circ, backend=simulator_vec, shots=1024)\n",
    "st = job.result().get_counts()\n",
    "print(st)\n",
    "print(job.result().get_statevector())\n",
    "# plot_histogram(st)"
   ]
  },
  {
   "cell_type": "code",
   "execution_count": 173,
   "metadata": {},
   "outputs": [
    {
     "data": {
      "text/plain": [
       "array([[0.+0.j],\n",
       "       [0.+0.j],\n",
       "       [1.+0.j],\n",
       "       [0.+0.j]])"
      ]
     },
     "execution_count": 173,
     "metadata": {},
     "output_type": "execute_result"
    }
   ],
   "source": [
    "qr = np.kron(zero, zero)\n",
    "qr = np.dot(X_q1, qr)\n",
    "qr"
   ]
  },
  {
   "cell_type": "code",
   "execution_count": 174,
   "metadata": {},
   "outputs": [
    {
     "data": {
      "text/plain": [
       "array([[0.+0.j],\n",
       "       [1.+0.j],\n",
       "       [0.+0.j],\n",
       "       [0.+0.j]])"
      ]
     },
     "execution_count": 174,
     "metadata": {},
     "output_type": "execute_result"
    }
   ],
   "source": [
    "X_q0 = np.kron(I, X)\n",
    "qr = np.kron(zero, zero)\n",
    "qr = np.dot(X_q0, qr)\n",
    "qr"
   ]
  },
  {
   "cell_type": "code",
   "execution_count": 176,
   "metadata": {},
   "outputs": [
    {
     "data": {
      "image/png": "[encoded data removed]",
      "text/plain": [
       "<Figure size 504x360 with 1 Axes>"
      ]
     },
     "execution_count": 176,
     "metadata": {},
     "output_type": "execute_result"
    }
   ],
   "source": [
    "circ = QuantumCircuit()\n",
    "circ.add_register(q)\n",
    "circ.add_register(c)\n",
    "\n",
    "circ.x(q[0])\n",
    "circ.cx(q[0], q[1])\n",
    "circ.measure(q, c)\n",
    "job = execute(circ, backend=simulator, shots=1024)\n",
    "st = job.result().get_counts()\n",
    "plot_histogram(st)"
   ]
  },
  {
   "cell_type": "code",
   "execution_count": 177,
   "metadata": {},
   "outputs": [
    {
     "data": {
      "text/plain": [
       "array([[0.+0.j],\n",
       "       [0.+0.j],\n",
       "       [0.+0.j],\n",
       "       [1.+0.j]])"
      ]
     },
     "execution_count": 177,
     "metadata": {},
     "output_type": "execute_result"
    }
   ],
   "source": [
    "qr = np.kron(zero, zero)\n",
    "qr = np.dot(X_q0, qr)\n",
    "qr = np.dot(CX01, qr)\n",
    "qr"
   ]
  },
  {
   "cell_type": "code",
   "execution_count": 178,
   "metadata": {},
   "outputs": [
    {
     "name": "stdout",
     "output_type": "stream",
     "text": [
      "{'00': 511, '11': 513}\n"
     ]
    },
    {
     "data": {
      "image/png": "[encoded data removed]",
      "text/plain": [
       "<Figure size 504x360 with 1 Axes>"
      ]
     },
     "execution_count": 178,
     "metadata": {},
     "output_type": "execute_result"
    }
   ],
   "source": [
    "circ = QuantumCircuit()\n",
    "circ.add_register(q)\n",
    "circ.add_register(c)\n",
    "\n",
    "circ.h(q[0])\n",
    "circ.cx(q[0], q[1])\n",
    "circ.measure(q, c)\n",
    "job = execute(circ, backend=simulator, shots=1024)\n",
    "st = job.result().get_counts()\n",
    "print(st)\n",
    "plot_histogram(st)"
   ]
  },
  {
   "cell_type": "code",
   "execution_count": 186,
   "metadata": {},
   "outputs": [
    {
     "data": {
      "text/plain": [
       "array([[ 1.00000000e+00+0.j],\n",
       "       [ 0.00000000e+00+0.j],\n",
       "       [-2.23711432e-17+0.j],\n",
       "       [ 0.00000000e+00+0.j]])"
      ]
     },
     "execution_count": 186,
     "metadata": {},
     "output_type": "execute_result"
    }
   ],
   "source": [
    "qr = np.kron(zero, zero)\n",
    "qr = np.dot(H_q0, qr)\n",
    "qr = np.dot(H_q1, qr) #coś tu nie gra\n",
    "#qr = np.dot(CX, qr)\n",
    "qr\n",
    "# TODO: Should be [0.7, 0, 0, 0.7]"
   ]
  }
 ],
 "metadata": {
  "kernelspec": {
   "display_name": "Python 3",
   "language": "python",
   "name": "python3"
  },
  "language_info": {
   "codemirror_mode": {
    "name": "ipython",
    "version": 3
   },
   "file_extension": ".py",
   "mimetype": "text/x-python",
   "name": "python",
   "nbconvert_exporter": "python",
   "pygments_lexer": "ipython3",
   "version": "3.7.4"
  }
 },
 "nbformat": 4,
 "nbformat_minor": 2
}
