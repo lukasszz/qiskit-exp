{
 "cells": [
  {
   "cell_type": "markdown",
   "metadata": {},
   "source": [
    "# Grover algorithm explained with matrices calculus\n",
    "\n",
    "author: [Łukasz Herok](https://lukaszherok.com)\n",
    "\n",
    "This notebook goes througt the [Qiskit Textbook Grover's algorithm](https://community.qiskit.org/textbook/ch-algorithms/grover.html#Grover's-Algorithm)  explaining it in more details, showing how to apply the matrix calculus. Before going furhter with this tutorial, you should get familiar with the theoretical [Introduction](https://community.qiskit.org/textbook/ch-algorithms/grover.html#1.-Introduction-) in the Qiskit Textbook.\n",
    "\n",
    "Grover algoriths is for searching the unstructded database. In this example is shown, how to perform the Groover's algorithm, to make a quantum system to reveal the marked states."
   ]
  },
  {
   "cell_type": "markdown",
   "metadata": {},
   "source": [
    "**Preparation part**"
   ]
  },
  {
   "cell_type": "markdown",
   "metadata": {},
   "source": [
    "*Latex math*\n",
    "$$ \\def\\ket#1{\\lvert #1 \\rangle}\\def\\bra#1{\\langle #1 \\rvert} $$"
   ]
  },
  {
   "cell_type": "markdown",
   "metadata": {},
   "source": [
    "*Quantum Gates as matrices*"
   ]
  },
  {
   "cell_type": "code",
   "execution_count": 20,
   "metadata": {},
   "outputs": [],
   "source": [
    "import numpy as np\n",
    "from qiskit.extensions import HGate, CnotGate, IdGate, XGate, CzGate, ZGate\n",
    "\n",
    "# |0>, |1>\n",
    "zero = np.array([[1.],\n",
    "                 [0.]]) \n",
    "\n",
    "one = np.array([[0.],\n",
    "                [1.]]) \n",
    "\n",
    "# Gates: I, Z, H, X\n",
    "I = IdGate().to_matrix()\n",
    "Z = ZGate().to_matrix()\n",
    "H = 1./np.sqrt(2) * np.array([[1, 1],\n",
    "                              [1, -1]])\n",
    "X = XGate().to_matrix()\n",
    "\n",
    "# 3-qubit Hadamard gate\n",
    "Hq012 = np.kron(np.kron(H,H),H)\n",
    "\n",
    "# 3-qubit CZ gates\n",
    "p00 = zero * np.array([1, 0]) # |0><0|\n",
    "p11 = one * np.array([0, 1]) # |1><1|\n",
    "# control = 1 (|0><0| + |1><1|), target = 0 (Z), uninvoled =2 (I)\n",
    "# 012 + 012 - qubit indexint\n",
    "cz10 = np.kron(np.kron(I, p00), I) + np.kron(np.kron(Z, p11), I)\n",
    "cz20 = np.kron(np.kron(I, I), p00) + np.kron(np.kron(Z, I), p11)\n",
    "\n",
    "# 3-qubit CCZ gate\n",
    "# control = (|0><0| + |1><1|), \n",
    "# target = (Z)\n",
    "# control = 21\n",
    "# target  = 0 \n",
    "ccz210 = np.kron(np.kron(I, p00), p00) + np.kron(np.kron(Z, p11), p11)\n"
   ]
  },
  {
   "cell_type": "markdown",
   "metadata": {},
   "source": [
    "*Qiskit*"
   ]
  },
  {
   "cell_type": "code",
   "execution_count": 2,
   "metadata": {},
   "outputs": [],
   "source": [
    "#initialization\n",
    "import matplotlib.pyplot as plt\n",
    "%matplotlib inline\n",
    "\n",
    "# importing Qiskit\n",
    "from qiskit import IBMQ, BasicAer\n",
    "from qiskit import QuantumCircuit, ClassicalRegister, QuantumRegister, execute\n",
    "\n",
    "# import basic plot tools\n",
    "from qiskit.tools.visualization import plot_histogram"
   ]
  },
  {
   "cell_type": "markdown",
   "metadata": {},
   "source": [
    "## Example\n",
    "\n",
    "According to the [example](https://community.qiskit.org/textbook/ch-algorithms/grover.html#2.-Example--).\n",
    "We have got three qubit system and we want to make it to return our two marked states: $\\ket{101}$ and $\\ket{110}$."
   ]
  },
  {
   "cell_type": "markdown",
   "metadata": {},
   "source": [
    "**1. Build 3 qubit register**\n",
    "\n",
    "Combine 3 qubits in state |0> to make one three qubit register: |000> [^lh-tut-qubytes]\n",
    "$$ \\ket{\\psi} = \\ket{000} $$"
   ]
  },
  {
   "cell_type": "markdown",
   "metadata": {},
   "source": [
    "**matrix:**"
   ]
  },
  {
   "cell_type": "code",
   "execution_count": 3,
   "metadata": {},
   "outputs": [
    {
     "data": {
      "text/plain": [
       "array([[1.],\n",
       "       [0.],\n",
       "       [0.],\n",
       "       [0.],\n",
       "       [0.],\n",
       "       [0.],\n",
       "       [0.],\n",
       "       [0.]])"
      ]
     },
     "execution_count": 3,
     "metadata": {},
     "output_type": "execute_result"
    }
   ],
   "source": [
    "state = np.kron(np.kron(zero, zero), zero)\n",
    "state"
   ]
  },
  {
   "cell_type": "markdown",
   "metadata": {},
   "source": [
    "Note, you can treat is as bit string, calucluateing the value of the state form binnary to decemial (eg. |000> = 0, |101> = 5) tells you when the `1` is int the vector (on the 0th or 5th postion accordinglgy)"
   ]
  },
  {
   "cell_type": "markdown",
   "metadata": {},
   "source": [
    "**qiskit:**"
   ]
  },
  {
   "cell_type": "code",
   "execution_count": 4,
   "metadata": {},
   "outputs": [
    {
     "data": {
      "image/png": "[encoded data removed]",
      "text/plain": [
       "<Figure size 167.356x264.88 with 1 Axes>"
      ]
     },
     "execution_count": 4,
     "metadata": {},
     "output_type": "execute_result"
    }
   ],
   "source": [
    "q = QuantumRegister(3)\n",
    "c = ClassicalRegister(3)\n",
    "circ = QuantumCircuit(q, c)\n",
    "\n",
    "circ.draw(output='mpl')"
   ]
  },
  {
   "cell_type": "markdown",
   "metadata": {},
   "source": [
    "\n",
    "**2. Superposiotion**\n",
    "\n",
    "Apply Hadamard gates to $3$ qubits initialised to $\\ket{000}$ to create a uniform superposition:\n",
    "\n",
    "$$ \\ket{\\psi_1} = H\\ket{\\psi}$$ \n",
    "\n",
    "  $$\\lvert \\psi_1 \\rangle = \\frac{1}{\\sqrt{8}} \\left( \n",
    "    \\lvert000\\rangle + \\lvert001\\rangle + \\lvert010\\rangle + \\lvert011\\rangle + \n",
    "    \\lvert100\\rangle + \\lvert101\\rangle + \\lvert110\\rangle + \\lvert111\\rangle \\right) $$"
   ]
  },
  {
   "cell_type": "markdown",
   "metadata": {},
   "source": [
    "**matrix:**"
   ]
  },
  {
   "cell_type": "code",
   "execution_count": 5,
   "metadata": {},
   "outputs": [
    {
     "data": {
      "text/plain": [
       "array([[0.35355339],\n",
       "       [0.35355339],\n",
       "       [0.35355339],\n",
       "       [0.35355339],\n",
       "       [0.35355339],\n",
       "       [0.35355339],\n",
       "       [0.35355339],\n",
       "       [0.35355339]])"
      ]
     },
     "execution_count": 5,
     "metadata": {},
     "output_type": "execute_result"
    }
   ],
   "source": [
    "\n",
    "state = np.dot(Hq012, state)\n",
    "state"
   ]
  },
  {
   "cell_type": "markdown",
   "metadata": {},
   "source": [
    "**qiskit:**"
   ]
  },
  {
   "cell_type": "code",
   "execution_count": 6,
   "metadata": {},
   "outputs": [
    {
     "data": {
      "image/png": "[encoded data removed]",
      "text/plain": [
       "<Figure size 227.556x264.88 with 1 Axes>"
      ]
     },
     "execution_count": 6,
     "metadata": {},
     "output_type": "execute_result"
    }
   ],
   "source": [
    "circ.h(q)\n",
    "circ.draw(output='mpl')"
   ]
  },
  {
   "cell_type": "markdown",
   "metadata": {},
   "source": [
    "**3. Oracle**\n",
    "\n",
    "(put the circuit graph here, with highlighted the oracle)\n",
    "\n",
    "\n",
    "Mark states $\\lvert101\\rangle$ and $\\lvert110\\rangle$ using a phase oracle:\n",
    "\n",
    "$$\\ket{\\psi_2} = CZ_{10}\\ket{CZ_{20}\\ket{\\psi_1}} $$\n",
    "\n",
    "\n",
    "  $$\\lvert \\psi_2 \\rangle = \\frac{1}{\\sqrt{8}} \\left( \n",
    "    \\lvert000\\rangle + \\lvert001\\rangle + \\lvert010\\rangle + \\lvert011\\rangle + \n",
    "    \\lvert100\\rangle - \\lvert101\\rangle - \\lvert110\\rangle + \\lvert111\\rangle \\right) $$\n"
   ]
  },
  {
   "cell_type": "markdown",
   "metadata": {},
   "source": [
    "**math:**"
   ]
  },
  {
   "cell_type": "code",
   "execution_count": 7,
   "metadata": {},
   "outputs": [
    {
     "data": {
      "text/plain": [
       "array([[ 0.35355339+0.j],\n",
       "       [ 0.35355339+0.j],\n",
       "       [ 0.35355339+0.j],\n",
       "       [ 0.35355339+0.j],\n",
       "       [ 0.35355339+0.j],\n",
       "       [-0.35355339+0.j],\n",
       "       [-0.35355339+0.j],\n",
       "       [ 0.35355339+0.j]])"
      ]
     },
     "execution_count": 7,
     "metadata": {},
     "output_type": "execute_result"
    }
   ],
   "source": [
    "oracle =cz20*cz10\n",
    "state = np.dot(oracle, state)\n",
    "state"
   ]
  },
  {
   "cell_type": "markdown",
   "metadata": {},
   "source": [
    "**qiskit:**"
   ]
  },
  {
   "cell_type": "code",
   "execution_count": 8,
   "metadata": {},
   "outputs": [
    {
     "data": {
      "image/png": "[encoded data removed]",
      "text/plain": [
       "<Figure size 408.156x264.88 with 1 Axes>"
      ]
     },
     "execution_count": 8,
     "metadata": {},
     "output_type": "execute_result"
    }
   ],
   "source": [
    "circ.barrier() # for readabilty\n",
    "circ.cz(q[2], q[0])\n",
    "circ.cz(q[1], q[0])\n",
    "circ.draw(output='mpl')"
   ]
  },
  {
   "cell_type": "markdown",
   "metadata": {},
   "source": [
    "**4. Amplify probability**\n",
    "\n",
    "a). Apply Hadamard gates to the qubits:\n",
    "$$ \\ket{\\psi_{3a}} = H\\ket{\\psi_2} $$ "
   ]
  },
  {
   "cell_type": "markdown",
   "metadata": {},
   "source": [
    "$$\\lvert \\psi_{3a} \\rangle = \\frac{1}{2} \\left( \n",
    "        \\lvert000\\rangle +\\lvert011\\rangle +\\lvert100\\rangle -\\lvert111\\rangle \\right) $$"
   ]
  },
  {
   "cell_type": "markdown",
   "metadata": {},
   "source": [
    "**matrix:**"
   ]
  },
  {
   "cell_type": "code",
   "execution_count": 9,
   "metadata": {},
   "outputs": [
    {
     "data": {
      "text/plain": [
       "array([[ 5.00000000e-01+0.j],\n",
       "       [ 0.00000000e+00+0.j],\n",
       "       [ 2.77555756e-17+0.j],\n",
       "       [ 5.00000000e-01+0.j],\n",
       "       [ 5.00000000e-01+0.j],\n",
       "       [ 0.00000000e+00+0.j],\n",
       "       [ 2.77555756e-17+0.j],\n",
       "       [-5.00000000e-01+0.j]])"
      ]
     },
     "execution_count": 9,
     "metadata": {},
     "output_type": "execute_result"
    }
   ],
   "source": [
    "state = np.dot(Hq012, state)\n",
    "state"
   ]
  },
  {
   "cell_type": "markdown",
   "metadata": {},
   "source": [
    "**qiskit:**"
   ]
  },
  {
   "cell_type": "code",
   "execution_count": 10,
   "metadata": {},
   "outputs": [
    {
     "data": {
      "image/png": "[encoded data removed]",
      "text/plain": [
       "<Figure size 528.556x264.88 with 1 Axes>"
      ]
     },
     "execution_count": 10,
     "metadata": {},
     "output_type": "execute_result"
    }
   ],
   "source": [
    "circ.barrier() # for readabilty\n",
    "circ.h(q)\n",
    "circ.draw(output='mpl')"
   ]
  },
  {
   "cell_type": "markdown",
   "metadata": {},
   "source": [
    "b). Apply X gates to the qubits:\n",
    "$$ \\ket{\\psi_{3b}} = X\\ket{\\psi_{3a}} $$ \n",
    "$$\\lvert \\psi_{3b} \\rangle = \\frac{1}{2} \\left( \n",
    "        -\\lvert000\\rangle +\\lvert011\\rangle +\\lvert100\\rangle +\\lvert111\\rangle \\right) $$"
   ]
  },
  {
   "cell_type": "code",
   "execution_count": 11,
   "metadata": {},
   "outputs": [
    {
     "data": {
      "text/plain": [
       "array([[-5.00000000e-01+0.j],\n",
       "       [ 2.77555756e-17+0.j],\n",
       "       [ 0.00000000e+00+0.j],\n",
       "       [ 5.00000000e-01+0.j],\n",
       "       [ 5.00000000e-01+0.j],\n",
       "       [ 2.77555756e-17+0.j],\n",
       "       [ 0.00000000e+00+0.j],\n",
       "       [ 5.00000000e-01+0.j]])"
      ]
     },
     "execution_count": 11,
     "metadata": {},
     "output_type": "execute_result"
    }
   ],
   "source": [
    "Xq012 = np.kron(np.kron(X,X), X)\n",
    "state = np.dot(Xq012, state)\n",
    "state"
   ]
  },
  {
   "cell_type": "markdown",
   "metadata": {},
   "source": [
    "**qiskit:**"
   ]
  },
  {
   "cell_type": "code",
   "execution_count": 12,
   "metadata": {},
   "outputs": [
    {
     "data": {
      "image/png": "[encoded data removed]",
      "text/plain": [
       "<Figure size 588.756x264.88 with 1 Axes>"
      ]
     },
     "execution_count": 12,
     "metadata": {},
     "output_type": "execute_result"
    }
   ],
   "source": [
    "circ.x(q)\n",
    "circ.draw(output='mpl')"
   ]
  },
  {
   "cell_type": "markdown",
   "metadata": {},
   "source": [
    "c). Apply a doubly controlled Z gate between the 0, 1 (controls) and 2 (target) qubits\n",
    "\n",
    "$$ \\ket{\\psi_{3c}} = CCZ_{012}\\ket{\\psi_{3b}} $$ \n",
    "\n",
    "$$ \\lvert \\psi_{3c} \\rangle = \\frac{1}{2} \\left(-\\lvert000\\rangle +\\lvert011\\rangle  +\\lvert100\\rangle -\\lvert111\\rangle \\right) $$"
   ]
  },
  {
   "cell_type": "markdown",
   "metadata": {},
   "source": [
    "**matrix:**"
   ]
  },
  {
   "cell_type": "code",
   "execution_count": 13,
   "metadata": {},
   "outputs": [
    {
     "data": {
      "text/plain": [
       "array([[-0.5+0.j],\n",
       "       [ 0. +0.j],\n",
       "       [ 0. +0.j],\n",
       "       [ 0.5+0.j],\n",
       "       [ 0.5+0.j],\n",
       "       [ 0. +0.j],\n",
       "       [ 0. +0.j],\n",
       "       [-0.5+0.j]])"
      ]
     },
     "execution_count": 13,
     "metadata": {},
     "output_type": "execute_result"
    }
   ],
   "source": [
    "state = np.dot(ccz210, state)\n",
    "state"
   ]
  },
  {
   "cell_type": "markdown",
   "metadata": {},
   "source": [
    "**qiskit:**"
   ]
  },
  {
   "cell_type": "code",
   "execution_count": 14,
   "metadata": {},
   "outputs": [
    {
     "data": {
      "image/png": "[encoded data removed]",
      "text/plain": [
       "<Figure size 769.356x264.88 with 1 Axes>"
      ]
     },
     "execution_count": 14,
     "metadata": {},
     "output_type": "execute_result"
    }
   ],
   "source": [
    "# There is no ccz gate in qiskit so we need to implement it using h-ccx-h\n",
    "circ.h(q[2])\n",
    "circ.ccx(q[0], q[1], q[2])\n",
    "circ.h(q[2])\n",
    "circ.draw(output='mpl')"
   ]
  },
  {
   "cell_type": "markdown",
   "metadata": {},
   "source": [
    "d). Apply X gates to the qubits\n",
    "\n",
    "$$ \\ket{\\psi_{3d}} = X\\ket{\\psi_{3c}} $$\n",
    "\n",
    " $$\\lvert \\psi_{3d} \\rangle = \\frac{1}{2} \\left( \n",
    "        -\\lvert000\\rangle +\\lvert011\\rangle +\\lvert100\\rangle -\\lvert111\\rangle \\right) $$"
   ]
  },
  {
   "cell_type": "markdown",
   "metadata": {},
   "source": [
    "**matrix:**"
   ]
  },
  {
   "cell_type": "code",
   "execution_count": 15,
   "metadata": {},
   "outputs": [
    {
     "data": {
      "text/plain": [
       "array([[-0.5+0.j],\n",
       "       [ 0. +0.j],\n",
       "       [ 0. +0.j],\n",
       "       [ 0.5+0.j],\n",
       "       [ 0.5+0.j],\n",
       "       [ 0. +0.j],\n",
       "       [ 0. +0.j],\n",
       "       [-0.5+0.j]])"
      ]
     },
     "execution_count": 15,
     "metadata": {},
     "output_type": "execute_result"
    }
   ],
   "source": [
    "state = np.dot(Xq012, state)\n",
    "state"
   ]
  },
  {
   "cell_type": "markdown",
   "metadata": {},
   "source": [
    "**qiskit:**"
   ]
  },
  {
   "cell_type": "code",
   "execution_count": 16,
   "metadata": {},
   "outputs": [
    {
     "data": {
      "image/png": "[encoded data removed]",
      "text/plain": [
       "<Figure size 829.556x264.88 with 1 Axes>"
      ]
     },
     "execution_count": 16,
     "metadata": {},
     "output_type": "execute_result"
    }
   ],
   "source": [
    "circ.x(q)\n",
    "circ.draw(output='mpl')"
   ]
  },
  {
   "cell_type": "markdown",
   "metadata": {},
   "source": [
    "e). Apply Hadamard gates to the qubits\n",
    "\n",
    "$$ \\ket{\\psi_{3e}} = H\\ket{\\psi_{3d}} $$\n",
    "$$\\lvert \\psi_{3e} \\rangle = \\frac{1}{\\sqrt{2}} \\left( \n",
    "        -\\lvert101\\rangle -\\lvert110\\rangle \\right) $$"
   ]
  },
  {
   "cell_type": "markdown",
   "metadata": {},
   "source": [
    "**matrix:**"
   ]
  },
  {
   "cell_type": "code",
   "execution_count": 17,
   "metadata": {},
   "outputs": [
    {
     "data": {
      "text/plain": [
       "array([[ 0.00000000e+00+0.j],\n",
       "       [ 9.52420783e-18+0.j],\n",
       "       [ 9.52420783e-18+0.j],\n",
       "       [ 0.00000000e+00+0.j],\n",
       "       [ 0.00000000e+00+0.j],\n",
       "       [-7.07106781e-01+0.j],\n",
       "       [-7.07106781e-01+0.j],\n",
       "       [ 0.00000000e+00+0.j]])"
      ]
     },
     "execution_count": 17,
     "metadata": {},
     "output_type": "execute_result"
    }
   ],
   "source": [
    "state = np.dot(Hq012, state)\n",
    "state"
   ]
  },
  {
   "cell_type": "markdown",
   "metadata": {},
   "source": [
    "Results 5: |101>, 6: |110>.\n",
    "\n",
    "(look carefully that states 1 = |001>, and 2 = |010>, are almost equal to `0`.\n",
    "\n"
   ]
  },
  {
   "cell_type": "markdown",
   "metadata": {},
   "source": [
    "**qiskit:**"
   ]
  },
  {
   "cell_type": "code",
   "execution_count": 18,
   "metadata": {},
   "outputs": [
    {
     "data": {
      "image/png": "[encoded data removed]",
      "text/plain": [
       "<Figure size 889.756x264.88 with 1 Axes>"
      ]
     },
     "execution_count": 18,
     "metadata": {},
     "output_type": "execute_result"
    }
   ],
   "source": [
    "circ.h(q)\n",
    "circ.draw(output='mpl')"
   ]
  },
  {
   "cell_type": "code",
   "execution_count": 19,
   "metadata": {},
   "outputs": [
    {
     "data": {
      "image/png": "[encoded data removed]",
      "text/plain": [
       "<Figure size 504x360 with 1 Axes>"
      ]
     },
     "execution_count": 19,
     "metadata": {},
     "output_type": "execute_result"
    }
   ],
   "source": [
    "circ.measure(q, c)\n",
    "backend = BasicAer.get_backend('qasm_simulator')\n",
    "shots = 1024\n",
    "results = execute(circ, backend=backend, shots=shots).result()\n",
    "answer = results.get_counts()\n",
    "plot_histogram(answer)"
   ]
  },
  {
   "cell_type": "markdown",
   "metadata": {},
   "source": [
    "Paste the screenshot of the other oracles from the pub [^3-qubit-search]"
   ]
  },
  {
   "cell_type": "markdown",
   "metadata": {},
   "source": [
    "## How to do the database search?"
   ]
  },
  {
   "cell_type": "markdown",
   "metadata": {},
   "source": [
    "## Questions\n",
    "\n",
    "1. We know the marked state to create the oracle. So the Grover algorithm gives us the same ouptpu. What for use the algo? The real reason for me is use it when I don't know the marked state - only the constraints it has to meet."
   ]
  },
  {
   "cell_type": "markdown",
   "metadata": {},
   "source": [
    "## Refferences\n",
    "\n",
    "- [^ibm-textbook-grover]: https://community.qiskit.org/textbook/ch-algorithms/grover.html\n",
    "- [^3-qubit-search]: C. Figgatt, D. Maslov, K. A. Landsman, N. M. Linke, S. Debnath & C. Monroe (2017), \"Complete 3-Qubit Grover search on a programmable quantum computer\", Nature Communications, Vol 8, Art 1918, doi:10.1038/s41467-017-01904-7, arXiv:1703.10535\n",
    "- [^lh-tut-qubytes]: lukaszherok.com"
   ]
  }
 ],
 "metadata": {
  "kernelspec": {
   "display_name": "Python 3",
   "language": "python",
   "name": "python3"
  },
  "language_info": {
   "codemirror_mode": {
    "name": "ipython",
    "version": 3
   },
   "file_extension": ".py",
   "mimetype": "text/x-python",
   "name": "python",
   "nbconvert_exporter": "python",
   "pygments_lexer": "ipython3",
   "version": "3.7.4"
  }
 },
 "nbformat": 4,
 "nbformat_minor": 2
}
