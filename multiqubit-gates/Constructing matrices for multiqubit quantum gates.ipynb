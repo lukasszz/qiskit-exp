{
 "cells": [
  {
   "cell_type": "markdown",
   "metadata": {},
   "source": [
    "# Constructing quantum gates as matrices for a multi-qubit quantum system"
   ]
  },
  {
   "cell_type": "markdown",
   "metadata": {},
   "source": [
    "The matrices for qubit gates are provided for the dimension appropiate to act directly on a single qubits. The question is how to extend the matrices to act on mulitqubit system that is represented by the column vector. This article gives short introduction into qubits and quantum gates, then it shows on the examples how to extends one and two qubit gates for multi qubit system using the matrix algebra."
   ]
  },
  {
   "cell_type": "markdown",
   "metadata": {},
   "source": [
    "## Introduction"
   ]
  },
  {
   "cell_type": "markdown",
   "metadata": {},
   "source": [
    "*Latex math*\n",
    "$$ \\def\\ket#1{\\lvert #1 \\rangle}\\def\\bra#1{\\langle #1 \\rvert} $$"
   ]
  },
  {
   "cell_type": "markdown",
   "metadata": {},
   "source": [
    "The quantum computing that bases on quantum gates, can be also performed using matrices. Making the quantum computation, in that case, is doing the matrix algebra where the quantum state is represented by the vector and the gates are represented by the matrices. \n",
    "\n",
    "The two basis states that represents `0` and `1` are represented by column vectors:\n",
    "\n",
    "$ \\left| 0 \\right\\rangle = {\\begin{bmatrix}1 \\\\ 0\\end{bmatrix}} $,\n",
    "\n",
    "$ \\left| 1 \\right\\rangle = {\\begin{bmatrix}0 \\\\ 1\\end{bmatrix}} $.\n",
    "\n",
    "To build more complex states, that consists of several qubits, we use the tensor product:\n",
    "\n",
    "$ \\ket{01} = \\left| 0 \\right\\rangle \\otimes \\left| 1 \\right\\rangle \n",
    "= {\\begin{bmatrix}1 \\\\ 0\\end{bmatrix}} \\otimes {\\begin{bmatrix}0 \\\\ 1\\end{bmatrix}} \n",
    "= {\\begin{bmatrix}1 \\\\ 0\\end{bmatrix}}  {\\begin{bmatrix}0 \\\\ 1\\end{bmatrix}}^{T}\n",
    "= {\\begin{bmatrix}1 \\\\ 0\\end{bmatrix}} {\\begin{bmatrix}0 & 1\\end{bmatrix}}\n",
    "= {\\begin{bmatrix}0\\\\ 1 \\\\ 0 \\\\ 0\\end{bmatrix}}.\n",
    "$\n"
   ]
  },
  {
   "cell_type": "markdown",
   "metadata": {},
   "source": [
    "## One qubit gate in multi-qubit system"
   ]
  },
  {
   "cell_type": "markdown",
   "metadata": {},
   "source": [
    "There are several one-qubit gates eg. the Hadamard gate $H$, Pauli's gate $X$, Identity $I$. You can learn more about one-qubit gates in the [Qiskit textbook](https://qiskit.org/textbook/ch-gates/quantum-gates.html). Let's use the Pauli's X gate for the following example to demonstrate how to prepare the gate that acts on two-qubit system."
   ]
  },
  {
   "cell_type": "markdown",
   "metadata": {},
   "source": [
    "The Pauli X gate flips the qubit basis state. It is represented by the matrix:\n",
    "\n",
    "$ X = {\\begin{bmatrix}0 & 1\\\\1 & 0\\end{bmatrix}} $,\n",
    "\n",
    "\n",
    "Applying this gate on the qubit in the $ \\ket{0} $ state results in $ \\ket{1} $ state:\n",
    "\n",
    "\n",
    "$ X\\left| 0 \\right\\rangle = {\\begin{bmatrix}0 & 1\\\\1 & 0\\end{bmatrix}} {\\begin{bmatrix}1 \\\\ 0\\end{bmatrix}} = {\\begin{bmatrix}0 \\\\ 1 \\end{bmatrix}} = \\left| 1 \\right\\rangle$,"
   ]
  },
  {
   "cell_type": "markdown",
   "metadata": {},
   "source": [
    "But how to perform the same operation if we have got a two-qubit system? For example in the following state:\n",
    "\n",
    "$$ \\ket{01} = \\begin{bmatrix}0\\\\ 1 \\\\ 0 \\\\ 0\\end{bmatrix} $$\n",
    "\n",
    "we only want to flip the first qubit to receive:\n",
    "\n",
    "$$ \\ket{11} = \\begin{bmatrix}0\\\\ 0 \\\\ 0 \\\\ 1\\end{bmatrix}.$$\n",
    "\n",
    "We cannot use directly the X gate as it doesn't fit the dimensions of the state. We need to prepare a special version of the $X$ gate, a $X_a$ gate, which will act only on the first qubit:\n",
    "\n",
    "$$ X_a \\ket{01} = \\ket{11}.$$ \n",
    "\n",
    "To construct the matrix $X_a$ that makes the above calculation we need to use the $X$ gate for the first qubit and Identity gate $I$ for the second. The Identity gate is the special gate that leaves the basis states unchanged:\n",
    "\n",
    "$$ I = {\\begin{bmatrix}1 & 0\\\\0 & 1\\end{bmatrix}}, $$\n",
    "\n",
    "We construct the desired $X_a$ gate making the tensor product of two gates:\n",
    "\n",
    "\n",
    "$$ X_a = X \\otimes I = \n",
    "\\begin{bmatrix} \n",
    "0 & 0 & 1 & 0 \\\\ \n",
    "0 & 0 & 0 & 1 \\\\ \n",
    "1 & 0 & 0 & 0 \\\\ \n",
    "0 & 1 & 0 & 0 \\end{bmatrix}\n",
    ",$$\n",
    "\n",
    "and we can check that it works correctly:\n",
    "$$ X_a\\ket{01} = \n",
    "\\begin{bmatrix} \n",
    "0 & 0 & 1 & 0 \\\\ \n",
    "0 & 0 & 0 & 1 \\\\ \n",
    "1 & 0 & 0 & 0 \\\\ \n",
    "0 & 1 & 0 & 0 \n",
    "\\end{bmatrix} \n",
    "\\begin{bmatrix}0\\\\ 1 \\\\ 0 \\\\ 0\\end{bmatrix} \n",
    "= \n",
    "\\begin{bmatrix}0\\\\ 0 \\\\ 0 \\\\ 1\\end{bmatrix}\n",
    "= \\ket{11}\n",
    ".$$"
   ]
  },
  {
   "cell_type": "markdown",
   "metadata": {},
   "source": [
    "Of course, if we would like to flip the *b* qubit we need to construct the $X_b$ gate swapping the $X$ and $I$ gate in the tensor product:\n",
    "\n",
    "$$ X_b = I \\otimes X = \n",
    "\\begin{bmatrix} \n",
    "0 & 1 & 0 & 0 \\\\ \n",
    "1 & 0 & 0 & 0 \\\\ \n",
    "0 & 0 & 0 & 1 \\\\ \n",
    "0 & 0 & 1 & 0 \n",
    "\\end{bmatrix}\n",
    ",$$\n",
    "\n",
    "$$ X_b\\ket{01} = \n",
    "\\begin{bmatrix} \n",
    "0 & 1 & 0 & 0 \\\\ \n",
    "1 & 0 & 0 & 0 \\\\ \n",
    "0 & 0 & 0 & 1 \\\\ \n",
    "0 & 0 & 1 & 0 \n",
    "\\end{bmatrix}\n",
    "\\begin{bmatrix}0\\\\ 1 \\\\ 0 \\\\ 0\\end{bmatrix} \n",
    "= \n",
    "\\begin{bmatrix}1\\\\ 0 \\\\ 0 \\\\ 0\\end{bmatrix}\n",
    "= \\ket{00}\n",
    ".$$"
   ]
  },
  {
   "cell_type": "markdown",
   "metadata": {},
   "source": [
    "The general idea of constructing the matrix for the qubit gate $M$ in the multi-qubit system is to make the tensor product of the desired gates $G$ and placing the $I$ Identity gate for the qubits that should not be affected. The working gate $G$ is placed in the equation on the position corresponding the qubits in the system:\n",
    "\n",
    "$$ M = I_1 \\otimes I_2 \\otimes .... \\otimes G_n \\otimes ... \\otimes I_m, $$\n",
    "\n",
    "where $n$ is the index of the qubit we would like to act on, and the $m$ is for the size of the qubit system."
   ]
  },
  {
   "cell_type": "markdown",
   "metadata": {},
   "source": [
    "The other common example could be creating a uniform superposition state what is done by applying the Hadamard gate $H$ for all qubits in the system. For the three qubit system the final matrix would be built as follows:\n",
    "\n",
    "$$ M = H \\otimes H \\otimes H $$\n"
   ]
  },
  {
   "cell_type": "markdown",
   "metadata": {},
   "source": [
    "## Two qubit gates in the mulitqubit system"
   ]
  },
  {
   "cell_type": "markdown",
   "metadata": {},
   "source": [
    "The main feature of a two-qubit controlled-U gate is that it performs an operation on some qubits depending on the value of the other qubit. The most popular is the $CNOT$ gate. It performs the  $X$  gate operation on the target qubit, only if the control qubit is in the $\\ket{1}$ state.\n",
    "\n",
    "$$ CNOT =  \n",
    "\\begin{bmatrix} \n",
    "1 & 0 & 0 & 0 \\\\ \n",
    "0 & 1 & 0 & 0 \\\\ \n",
    "0 & 0 & 0 & 1 \\\\  \n",
    "0 & 0 & 1 & 0 \n",
    "\\end{bmatrix}\n",
    "$$\n"
   ]
  },
  {
   "cell_type": "markdown",
   "metadata": {},
   "source": [
    "The example for fliping the second qubit: $CNOT\\ket{10} = \\ket{11}$"
   ]
  },
  {
   "cell_type": "markdown",
   "metadata": {},
   "source": [
    "\n",
    "$$ CNOT\\ket{10} \n",
    "=\n",
    "\\begin{bmatrix} \n",
    "1 & 0 & 0 & 0 \\\\ \n",
    "0 & 1 & 0 & 0 \\\\ \n",
    "0 & 0 & 0 & 1 \\\\  \n",
    "0 & 0 & 1 & 0 \n",
    "\\end{bmatrix}\n",
    "\\begin{bmatrix}0\\\\ 0 \\\\ 1 \\\\ 0\\end{bmatrix}\n",
    "=\n",
    "\\begin{bmatrix}0\\\\ 0 \\\\ 0 \\\\ 1\\end{bmatrix}\n",
    "= \\ket{11}$$ "
   ]
  },
  {
   "cell_type": "markdown",
   "metadata": {},
   "source": [
    "But how to prepare the matrix for the operation for the 3-qubit system, where we want to operate over the third qubit with respect to the first one, omitting the second qubit?\n",
    "\n",
    "\n",
    "$$ CNOT_{ac}|100> = |101> $$"
   ]
  },
  {
   "cell_type": "markdown",
   "metadata": {},
   "source": [
    "The general procedure for constructing the Controlled-U gate can be written down as algebraic formula:\n",
    "\n",
    "$$CU=\n",
    "\\underbrace{\\ket{0}\\bra{0}}_{\\text{control}}\n",
    "\\otimes\n",
    "\\underbrace{I}_{\\text{target}}\n",
    "+\n",
    "\\underbrace{\\ket{1}\\bra{1}}_{\\text{control}}\n",
    "\\otimes\n",
    "\\underbrace{U}_{\\text{target}}\n",
    "$$\n",
    "\n",
    "to extend it for the multiqubit system we need to extend the formula with $I$ for all uninvolved qubits."
   ]
  },
  {
   "cell_type": "markdown",
   "metadata": {},
   "source": [
    "Developing it for our example 3 qubit system we need to prepare the CNOT gate building it from the sum of the two matrices. In the first component for we place the outer product: $\\ket{0}\\bra{0}$ for the control qubit, and the Identity for the other qubits. In the second component, we place $\\ket{1}\\bra{1}$ for the control qubit, the Identity for all uninvolved qubit and for the target qubits the desired gate.\n",
    "\n",
    "\n",
    "$$ CNOT_{ac} = \n",
    "\\underbrace{\\ket{0}\\bra{0}}_{\\text{control}}^{\\text{a}} \n",
    "\\otimes\n",
    "\\underbrace{I}_{\\text{uninvolved}}^{\\text{b}} \n",
    "\\otimes\n",
    "\\underbrace{\\ket{0}\\bra{0}}_{\\text{target}}^{\\text{c}} \n",
    "+\n",
    "\\underbrace{\\ket{1}\\bra{1}}_{\\text{control}}^{\\text{a}} \n",
    "\\otimes\n",
    "\\underbrace{I}_{\\text{uninvolved}}^{\\text{b}} \n",
    "\\otimes\n",
    "\\underbrace{X}_{\\text{target}}^{\\text{c}} \n",
    "$$"
   ]
  },
  {
   "cell_type": "markdown",
   "metadata": {},
   "source": [
    "## Qiskit and numpy examples"
   ]
  },
  {
   "cell_type": "markdown",
   "metadata": {},
   "source": [
    "In `numpy` to we use `numpy.kron()` for the tensor product.\n",
    "Qiskit provides the matrix representation for the gates in the `qiskit.extensions` package with `to_matrix()` method."
   ]
  },
  {
   "cell_type": "code",
   "execution_count": 1,
   "metadata": {},
   "outputs": [],
   "source": [
    "# Prepartion part\n",
    "\n",
    "import numpy as np\n",
    "from qiskit.extensions import HGate, CnotGate, IdGate, XGate, CzGate, ZGate\n",
    "\n",
    "# |0>\n",
    "Zero = np.array([[1.],\n",
    "                 [0.]]) \n",
    "# |1>\n",
    "One = np.array([[0.],\n",
    "                [1.]]) \n",
    "\n",
    "H = HGate().to_matrix()\n",
    "I = IdGate().to_matrix()\n",
    "X = XGate().to_matrix()"
   ]
  },
  {
   "cell_type": "markdown",
   "metadata": {},
   "source": [
    "### Application of the Hadamard gate on 3-qubit system\n",
    "\n",
    "$$ H\\ket{000} = \\ket{+++}$$\n",
    "\n",
    "Let's prepare 3-qubit system in $\\ket{000}$ state: $$\\ket{000} = \\ket{0}\\otimes\\ket{0}\\otimes\\ket{0}$$"
   ]
  },
  {
   "cell_type": "code",
   "execution_count": 2,
   "metadata": {},
   "outputs": [
    {
     "name": "stdout",
     "output_type": "stream",
     "text": [
      "[[1.]\n",
      " [0.]\n",
      " [0.]\n",
      " [0.]\n",
      " [0.]\n",
      " [0.]\n",
      " [0.]\n",
      " [0.]]\n"
     ]
    }
   ],
   "source": [
    "s3 = np.kron(np.kron(Zero, Zero), Zero)\n",
    "print(s3)"
   ]
  },
  {
   "cell_type": "markdown",
   "metadata": {},
   "source": [
    "The $\\ket{000}$ is represented by the above column vector. The next step is the preparation of the Hadamard gate for our state vector and its application:"
   ]
  },
  {
   "cell_type": "code",
   "execution_count": 3,
   "metadata": {},
   "outputs": [
    {
     "name": "stdout",
     "output_type": "stream",
     "text": [
      "[[0.35355339+0.j]\n",
      " [0.35355339+0.j]\n",
      " [0.35355339+0.j]\n",
      " [0.35355339+0.j]\n",
      " [0.35355339+0.j]\n",
      " [0.35355339+0.j]\n",
      " [0.35355339+0.j]\n",
      " [0.35355339+0.j]]\n"
     ]
    }
   ],
   "source": [
    "H_3 = np.kron(np.kron(H,H),H)\n",
    "Hs3 = np.dot(H_3, s3)\n",
    "print(Hs3)"
   ]
  },
  {
   "cell_type": "markdown",
   "metadata": {},
   "source": [
    "Now let's try go back to the intial state:\n",
    "$$ H\\ket{+++} = \\ket{000}$$"
   ]
  },
  {
   "cell_type": "code",
   "execution_count": 4,
   "metadata": {},
   "outputs": [
    {
     "data": {
      "text/plain": [
       "array([[1.+0.j],\n",
       "       [0.+0.j],\n",
       "       [0.+0.j],\n",
       "       [0.+0.j],\n",
       "       [0.+0.j],\n",
       "       [0.+0.j],\n",
       "       [0.+0.j],\n",
       "       [0.+0.j]])"
      ]
     },
     "execution_count": 4,
     "metadata": {},
     "output_type": "execute_result"
    }
   ],
   "source": [
    "np.around(np.dot(H_3, Hs3), 10)"
   ]
  },
  {
   "cell_type": "markdown",
   "metadata": {},
   "source": [
    "as we can see we successfully got back to the initial state."
   ]
  },
  {
   "cell_type": "markdown",
   "metadata": {},
   "source": [
    "Below is the `qiskit` implementation of the example:"
   ]
  },
  {
   "cell_type": "code",
   "execution_count": 5,
   "metadata": {},
   "outputs": [],
   "source": [
    "import qiskit\n",
    "from qiskit import QuantumRegister, ClassicalRegister, QuantumCircuit\n",
    "from qiskit.visualization import plot_histogram\n",
    "from qiskit import IBMQ, BasicAer, execute"
   ]
  },
  {
   "cell_type": "code",
   "execution_count": 6,
   "metadata": {},
   "outputs": [
    {
     "data": {
      "image/png": "[encoded data removed]",
      "text/plain": [
       "<Figure size 227.556x264.88 with 1 Axes>"
      ]
     },
     "execution_count": 6,
     "metadata": {},
     "output_type": "execute_result"
    }
   ],
   "source": [
    "q3 = QuantumRegister(3)\n",
    "c3 = ClassicalRegister(3)\n",
    "circ = QuantumCircuit(q3, c3)\n",
    "\n",
    "circ.h(q3)\n",
    "circ.draw(output='mpl')"
   ]
  },
  {
   "cell_type": "code",
   "execution_count": 7,
   "metadata": {},
   "outputs": [
    {
     "data": {
      "image/png": "[encoded data removed]",
      "text/plain": [
       "<Figure size 504x360 with 1 Axes>"
      ]
     },
     "execution_count": 7,
     "metadata": {},
     "output_type": "execute_result"
    }
   ],
   "source": [
    "circ.measure(q3, c3)\n",
    "backend = BasicAer.get_backend('qasm_simulator')\n",
    "shots = 1024\n",
    "results = execute(circ, backend=backend, shots=shots).result()\n",
    "answer = results.get_counts()\n",
    "plot_histogram(answer)"
   ]
  },
  {
   "cell_type": "markdown",
   "metadata": {},
   "source": [
    "### Application of the CNOT gate on 3-qubit system"
   ]
  },
  {
   "cell_type": "markdown",
   "metadata": {},
   "source": [
    "$$ CNOT\\ket{100} = \\ket{101} $$\n",
    "According to the description in the previous chapter we need to prepare the appropriate matrix for our system:"
   ]
  },
  {
   "cell_type": "code",
   "execution_count": 8,
   "metadata": {},
   "outputs": [],
   "source": [
    "_00 = Zero * Zero.transpose() # |0><0|\n",
    "_11 = One * One.transpose() # |1><1|\n",
    "\n",
    "CX_ac  = np.kron(np.kron(_00, I), _00) + np.kron(np.kron(_11, I), X)"
   ]
  },
  {
   "cell_type": "code",
   "execution_count": 9,
   "metadata": {},
   "outputs": [
    {
     "name": "stdout",
     "output_type": "stream",
     "text": [
      "[[0.]\n",
      " [0.]\n",
      " [0.]\n",
      " [0.]\n",
      " [1.]\n",
      " [0.]\n",
      " [0.]\n",
      " [0.]]\n"
     ]
    }
   ],
   "source": [
    "s_6 = np.kron(np.kron(One, Zero), Zero)\n",
    "print(s_6)"
   ]
  },
  {
   "cell_type": "code",
   "execution_count": 10,
   "metadata": {},
   "outputs": [
    {
     "name": "stdout",
     "output_type": "stream",
     "text": [
      "[[0.+0.j]\n",
      " [0.+0.j]\n",
      " [0.+0.j]\n",
      " [0.+0.j]\n",
      " [0.+0.j]\n",
      " [1.+0.j]\n",
      " [0.+0.j]\n",
      " [0.+0.j]]\n"
     ]
    }
   ],
   "source": [
    "s_7 = np.dot(CX_ac, s_6)\n",
    "print(s_7)"
   ]
  },
  {
   "cell_type": "markdown",
   "metadata": {},
   "source": [
    "As we can see we have successfully achieved the $\\ket{101}$ state, as the `1` is on the 5th position.\n",
    "\n",
    "Applying the CX_ac again should bring us back to the $\\ket{100}$ state, as the 3rd qubit should be switched back."
   ]
  },
  {
   "cell_type": "code",
   "execution_count": 11,
   "metadata": {},
   "outputs": [
    {
     "data": {
      "text/plain": [
       "array([[0.+0.j],\n",
       "       [0.+0.j],\n",
       "       [0.+0.j],\n",
       "       [0.+0.j],\n",
       "       [1.+0.j],\n",
       "       [0.+0.j],\n",
       "       [0.+0.j],\n",
       "       [0.+0.j]])"
      ]
     },
     "execution_count": 11,
     "metadata": {},
     "output_type": "execute_result"
    }
   ],
   "source": [
    "np.dot(CX_ac, s_7)"
   ]
  },
  {
   "cell_type": "markdown",
   "metadata": {},
   "source": [
    "## Summary\n",
    "\n",
    "It was shown how quantum gates are represented by the matrices, and how to build appropriate matrices to act on a desired qubits in the multi-qubit entangled system.\n",
    "\n",
    "**Acknowledgements**\n",
    "\n",
    "I have to express my appreciation to [Niel de Beaudrap](https://www.researchgate.net/scientific-contributions/2081801243_Niel_de_Beaudrap) for sharing his knowledge on the [StackExchange](https://quantumcomputing.stackexchange.com/a/4255/9760), what was very helpful for this article."
   ]
  }
 ],
 "metadata": {
  "kernelspec": {
   "display_name": "Python 3",
   "language": "python",
   "name": "python3"
  },
  "language_info": {
   "codemirror_mode": {
    "name": "ipython",
    "version": 3
   },
   "file_extension": ".py",
   "mimetype": "text/x-python",
   "name": "python",
   "nbconvert_exporter": "python",
   "pygments_lexer": "ipython3",
   "version": "3.7.5"
  }
 },
 "nbformat": 4,
 "nbformat_minor": 2
}
