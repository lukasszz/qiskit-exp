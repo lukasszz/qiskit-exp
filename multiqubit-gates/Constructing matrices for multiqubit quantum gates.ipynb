{
 "cells": [
  {
   "cell_type": "markdown",
   "metadata": {},
   "source": [
    "# Constructing matrices for multiqubit quantum gates"
   ]
  },
  {
   "cell_type": "markdown",
   "metadata": {},
   "source": [
    "The goal of this article is to show how quantum gates are represetned by the matrices, and how to build appropitate matrices to act on a single qubit in multiqubit entlaged system.\n"
   ]
  },
  {
   "cell_type": "markdown",
   "metadata": {},
   "source": [
    "## Introduction"
   ]
  },
  {
   "cell_type": "markdown",
   "metadata": {},
   "source": [
    "*Latex math*\n",
    "$$ \\def\\ket#1{\\lvert #1 \\rangle}\\def\\bra#1{\\langle #1 \\rvert} $$"
   ]
  },
  {
   "cell_type": "markdown",
   "metadata": {},
   "source": [
    "The quantum computing based on a quantum gates are basing on the matrix calculation. The quantum state is represnetd by the vector and the gates are the matrieces that acts over the state [suskind].\n",
    "\n",
    "The two basic states that represents `0` and `1` are:\n",
    "\n",
    "$ \\left| 0 \\right\\rangle = {\\begin{bmatrix}1 \\\\ 0\\end{bmatrix}} $,\n",
    "\n",
    "$ \\left| 1 \\right\\rangle = {\\begin{bmatrix}0 \\\\ 1\\end{bmatrix}} $.\n",
    "\n",
    "The qubyte that consist of two qubits is represented by two bytes.\n",
    "\n",
    "$ \\ket{01} = \\left| 0 \\right\\rangle \\otimes \\left| 1 \\right\\rangle \n",
    "= {\\begin{bmatrix}1 \\\\ 0\\end{bmatrix}} \\otimes {\\begin{bmatrix}0 \\\\ 1\\end{bmatrix}} \n",
    "= {\\begin{bmatrix}1 \\\\ 0\\end{bmatrix}}  {\\begin{bmatrix}0 \\\\ 1\\end{bmatrix}}^{T}\n",
    "= {\\begin{bmatrix}1 \\\\ 0\\end{bmatrix}} {\\begin{bmatrix}0 & 1\\end{bmatrix}}\n",
    "= {\\begin{bmatrix}0\\\\ 1 \\\\ 0 \\\\ 0\\end{bmatrix}} \n",
    "$\n"
   ]
  },
  {
   "cell_type": "markdown",
   "metadata": {},
   "source": [
    "## Python intialization"
   ]
  },
  {
   "cell_type": "code",
   "execution_count": 6,
   "metadata": {},
   "outputs": [],
   "source": [
    "import numpy as np\n",
    "\n",
    "# |0>, |1>\n",
    "Zero = np.array([[1.],\n",
    "                 [0.]]) \n",
    "\n",
    "One = np.array([[0.],\n",
    "                [1.]]) \n",
    "\n",
    "ZeroOne = np.array([[0.],\n",
    "                    [1.],\n",
    "                    [0.],\n",
    "                    [0.],]) "
   ]
  },
  {
   "cell_type": "markdown",
   "metadata": {},
   "source": [
    "## One qubit gate in multi-qubit system"
   ]
  },
  {
   "cell_type": "markdown",
   "metadata": {},
   "source": [
    "There are serveral on qubit gates the Hadamard gate (H), Pauli's gate, Identity. You can learn more about one qubit gate in the [Qiskit textbook](http://). Let's use the Pauli's X gate for the following example."
   ]
  },
  {
   "cell_type": "markdown",
   "metadata": {},
   "source": [
    "The Pauli X gate makes the qbit flip it state. It is represented by the matrix:\n",
    "\n",
    "$ X = {\\begin{bmatrix}0 & 1\\\\1 & 0\\end{bmatrix}} $,\n",
    "\n",
    "\n",
    "Appling this gate on the qubit in the $ \\ket{0} $ state results in $ \\ket{1} $ state:\n",
    "\n",
    "\n",
    "$ X\\left| 0 \\right\\rangle = {\\begin{bmatrix}0 & 1\\\\1 & 0\\end{bmatrix}} {\\begin{bmatrix}1 \\\\ 0\\end{bmatrix}} = {\\begin{bmatrix}0 \\\\ 1 \\end{bmatrix}} = \\left| 1 \\right\\rangle$,"
   ]
  },
  {
   "cell_type": "markdown",
   "metadata": {},
   "source": [
    "Using the numpy:"
   ]
  },
  {
   "cell_type": "code",
   "execution_count": 5,
   "metadata": {},
   "outputs": [
    {
     "data": {
      "text/plain": [
       "array([[0.],\n",
       "       [1.]])"
      ]
     },
     "execution_count": 5,
     "metadata": {},
     "output_type": "execute_result"
    }
   ],
   "source": [
    "X = np.array([[0, 1],\n",
    "              [1, 0]])\n",
    "\n",
    "np.dot(X, Zero)"
   ]
  },
  {
   "cell_type": "markdown",
   "metadata": {},
   "source": [
    "But how to perform the same operation if we have got a two qubit system? For exmaple in qubyte:\n",
    "\n",
    "$$ \\ket{01} = \\begin{bmatrix}0\\\\ 1 \\\\ 0 \\\\ 0\\end{bmatrix} $$\n",
    "\n",
    "we only want to flip the first qbit to receive:\n",
    "\n",
    "$$ \\ket{11} = \\begin{bmatrix}0\\\\ 0 \\\\ 0 \\\\ 1\\end{bmatrix} $$\n",
    "\n",
    "\n",
    "$$ X_a \\ket{01} = \\ket{11} $$ \n",
    "\n",
    "How to construct the matrix $X_a$ that makes the calculation?\n",
    "\n",
    "We need to construct $X_a$ gate using the Identity to flip only the first qubit and leave the second untouched.\n",
    "\n",
    "$$ I = {\\begin{bmatrix}1 & 0\\\\0 & 1\\end{bmatrix}} $$\n",
    "\n",
    "$$ X_a = X \\otimes I = \n",
    "\\begin{bmatrix} \n",
    "0 & 0 & 1 & 0 \\\\ \n",
    "0 & 0 & 0 & 1 \\\\ \n",
    "1 & 0 & 0 & 0 \\\\ \n",
    "0 & 1 & 0 & 0 \\end{bmatrix}\n",
    "$$\n",
    "\n",
    "$$ X_a\\ket{01} = \n",
    "\\begin{bmatrix} \n",
    "0 & 0 & 1 & 0 \\\\ \n",
    "0 & 0 & 0 & 1 \\\\ \n",
    "1 & 0 & 0 & 0 \\\\ \n",
    "0 & 1 & 0 & 0 \n",
    "\\end{bmatrix} \n",
    "\\begin{bmatrix}0\\\\ 1 \\\\ 0 \\\\ 0\\end{bmatrix} \n",
    "= \n",
    "\\begin{bmatrix}0\\\\ 0 \\\\ 0 \\\\ 1\\end{bmatrix}\n",
    "= \\ket{11}\n",
    "$$"
   ]
  },
  {
   "cell_type": "markdown",
   "metadata": {},
   "source": [
    "Of course if we would like to flip the *b* qubit we need to construct the $X_b$ gate swaping the X and I gate:\n",
    "\n",
    "$$ X_b = I \\otimes X = \n",
    "\\begin{bmatrix} \n",
    "0 & 1 & 0 & 0 \\\\ \n",
    "1 & 0 & 0 & 0 \\\\ \n",
    "0 & 0 & 0 & 1 \\\\ \n",
    "0 & 0 & 1 & 0 \n",
    "\\end{bmatrix}\n",
    "$$\n",
    "\n",
    "$$ X_b\\ket{01} = \n",
    "\\begin{bmatrix} \n",
    "0 & 1 & 0 & 0 \\\\ \n",
    "1 & 0 & 0 & 0 \\\\ \n",
    "0 & 0 & 0 & 1 \\\\ \n",
    "0 & 0 & 1 & 0 \n",
    "\\end{bmatrix}\n",
    "\\begin{bmatrix}0\\\\ 1 \\\\ 0 \\\\ 0\\end{bmatrix} \n",
    "= \n",
    "\\begin{bmatrix}1\\\\ 0 \\\\ 0 \\\\ 0\\end{bmatrix}\n",
    "= \\ket{00}\n",
    "$$"
   ]
  },
  {
   "cell_type": "markdown",
   "metadata": {},
   "source": [
    "To extend this approach for the more qubits we need to construct the matrix (M) using the tensor product with Identity and the desierd gate (G), where the desiered gate is placed in the equation on the postion corresponding the qubit in the system:\n",
    "\n",
    "$$ M = I \\otimes I \\otimes .... \\otimes G \\otimes ... \\otimes I $$\n"
   ]
  },
  {
   "cell_type": "markdown",
   "metadata": {},
   "source": [
    "The general idea of constructing the matrix for the qubit gates in the multi-qubit system is to make the tensor product of the gates, placing the Identity gate for the qubits that should not be changed.\n",
    "\n",
    "For example if we would like to apply Hadamard for the all qubits in the three qubit system we should prepare the matrix:\n",
    "\n",
    "$$ M = H \\otimes H \\otimes H $$\n"
   ]
  },
  {
   "cell_type": "markdown",
   "metadata": {},
   "source": [
    "## Matrix representation of two qubit gate"
   ]
  },
  {
   "cell_type": "markdown",
   "metadata": {},
   "source": [
    "How to perfrom the calcustion on a qubyte that consists of two qubits?\n",
    "CNOT gate"
   ]
  },
  {
   "cell_type": "markdown",
   "metadata": {},
   "source": [
    "## Constructing matrices for 4 qubit system"
   ]
  },
  {
   "cell_type": "markdown",
   "metadata": {},
   "source": [
    "CNOT for 4 qubit system"
   ]
  },
  {
   "cell_type": "code",
   "execution_count": null,
   "metadata": {},
   "outputs": [],
   "source": [
    "\n",
    "# 3-qubit Hadamard gate\n",
    "Hq012 = np.kron(np.kron(H,H),H)\n",
    "\n",
    "# 3-qubit CZ gates\n",
    "p00 = zero * np.array([1, 0]) # |0><0|\n",
    "p11 = one * np.array([0, 1]) # |1><1|\n",
    "# control = 1 (|0><0| + |1><1|), target = 0 (Z), uninvoled =2 (I)\n",
    "# 012 + 012 - qubit indexint\n",
    "cz10 = np.kron(np.kron(I, p00), I) + np.kron(np.kron(Z, p11), I)\n",
    "cz20 = np.kron(np.kron(I, I), p00) + np.kron(np.kron(Z, I), p11)\n",
    "\n",
    "# 3-qubit CCZ gate\n",
    "# control = (|0><0| + |1><1|), \n",
    "# target = (Z)\n",
    "# control = 21\n",
    "# target  = 0 \n",
    "ccz210 = np.kron(np.kron(I, p00), p00) + np.kron(np.kron(Z, p11), p11)\n"
   ]
  },
  {
   "cell_type": "markdown",
   "metadata": {},
   "source": [
    "https://quantumcomputing.stackexchange.com/a/4255"
   ]
  },
  {
   "cell_type": "code",
   "execution_count": 1,
   "metadata": {},
   "outputs": [],
   "source": [
    "import numpy as np\n",
    "from qiskit.extensions import HGate, CnotGate, IdGate, XGate, CzGate, ZGate\n",
    "\n",
    "# We can build the matrix on our own\n",
    "H = 1./np.sqrt(2) * np.array([[1, 1],\n",
    "                              [1, -1]])\n",
    "\n",
    "# or just import it from qiskit\n",
    "I = IdGate().to_matrix()\n",
    "\n",
    "Hq0 = np.kron(np.kron(H,I), I)\n",
    "Hq1 = np.kron(np.kron(I,H), I)\n",
    "Hq2 = np.kron(np.kron(I,I), H)\n",
    "Hq012 = np.kron(np.kron(H,H),H)\n",
    "\n"
   ]
  },
  {
   "cell_type": "code",
   "execution_count": 2,
   "metadata": {},
   "outputs": [
    {
     "data": {
      "text/plain": [
       "array([[1.],\n",
       "       [0.],\n",
       "       [0.],\n",
       "       [0.],\n",
       "       [0.],\n",
       "       [0.],\n",
       "       [0.],\n",
       "       [0.]])"
      ]
     },
     "execution_count": 2,
     "metadata": {},
     "output_type": "execute_result"
    }
   ],
   "source": [
    "import numpy as np\n",
    "zero = np.array([[1.],\n",
    "                 [0.]]) \n",
    "\n",
    "state = np.kron(np.kron(zero, zero), zero)\n",
    "state"
   ]
  },
  {
   "cell_type": "code",
   "execution_count": 3,
   "metadata": {},
   "outputs": [
    {
     "data": {
      "text/plain": [
       "array([[0.35355339],\n",
       "       [0.35355339],\n",
       "       [0.35355339],\n",
       "       [0.35355339],\n",
       "       [0.35355339],\n",
       "       [0.35355339],\n",
       "       [0.35355339],\n",
       "       [0.35355339]])"
      ]
     },
     "execution_count": 3,
     "metadata": {},
     "output_type": "execute_result"
    }
   ],
   "source": [
    "np.dot(Hq012, state)"
   ]
  },
  {
   "cell_type": "markdown",
   "metadata": {},
   "source": [
    "Step by step"
   ]
  },
  {
   "cell_type": "code",
   "execution_count": 4,
   "metadata": {},
   "outputs": [
    {
     "name": "stdout",
     "output_type": "stream",
     "text": [
      "[[0.70710678+0.j]\n",
      " [0.        +0.j]\n",
      " [0.        +0.j]\n",
      " [0.        +0.j]\n",
      " [0.70710678+0.j]\n",
      " [0.        +0.j]\n",
      " [0.        +0.j]\n",
      " [0.        +0.j]]\n",
      "[[0.5+0.j]\n",
      " [0. +0.j]\n",
      " [0.5+0.j]\n",
      " [0. +0.j]\n",
      " [0.5+0.j]\n",
      " [0. +0.j]\n",
      " [0.5+0.j]\n",
      " [0. +0.j]]\n",
      "[[0.35355339+0.j]\n",
      " [0.35355339+0.j]\n",
      " [0.35355339+0.j]\n",
      " [0.35355339+0.j]\n",
      " [0.35355339+0.j]\n",
      " [0.35355339+0.j]\n",
      " [0.35355339+0.j]\n",
      " [0.35355339+0.j]]\n"
     ]
    }
   ],
   "source": [
    "state = np.dot(Hq0, state)\n",
    "print(state)\n",
    "state = np.dot(Hq1, state)\n",
    "print(state)\n",
    "state = np.dot(Hq2, state)\n",
    "print(state)"
   ]
  },
  {
   "cell_type": "markdown",
   "metadata": {},
   "source": [
    "$$\n",
    "\\begin{alignat}{2}\n",
    "\\mathit{CX}_{1,3} \\;&amp;=&amp;\\;\n",
    "\\underbrace{\\ket{0}\\!\\bra{0}}_{\\text{control}} \\otimes \\underbrace{\\;\\mathbf 1_2\\;}_{\\!\\!\\!\\!\\text{uninvolved}\\!\\!\\!\\!} \\otimes \\underbrace{\\;\\mathbf 1_2\\;}_{\\!\\!\\!\\!\\text{target}\\!\\!\\!\\!}\n",
    "&amp;+\\,\n",
    "\\underbrace{\\ket{1}\\!\\bra{1}}_{\\text{control}} \\otimes \\underbrace{\\;\\mathbf 1_2\\;}_{\\!\\!\\!\\!\\text{uninvolved}\\!\\!\\!\\!} \\otimes \\underbrace{\\; X\\;}_{\\!\\!\\!\\!\\text{target}\\!\\!\\!\\!}\n",
    "\\\\[1ex]&amp;=&amp;\\;\n",
    "\\begin{bmatrix}\n",
    "  \\mathbf 1_2 &amp; \\mathbf 0_2 &amp; \\phantom{\\mathbf 0_2} &amp; \\phantom{\\mathbf 0_2} \\\\\n",
    "  \\mathbf 0_2 &amp; \\mathbf 1_2 &amp; \\phantom{\\mathbf 0_2} &amp; \\phantom{\\mathbf 0_2} \\\\\n",
    "  \\phantom{\\mathbf 0_2} &amp; \\phantom{\\mathbf 0_2} &amp; \\phantom{\\mathbf 0_2} &amp; \\phantom{\\mathbf 0_2} \\\\\n",
    "  \\phantom{\\mathbf 0_2} &amp; \\phantom{\\mathbf 0_2} &amp; \\phantom{\\mathbf 0_2} &amp; \\phantom{\\mathbf 0_2}\n",
    "\\end{bmatrix}\n",
    "\\,&amp;+\\,\n",
    "\\begin{bmatrix}\n",
    "  \\phantom{\\mathbf 0_2} &amp; \\phantom{\\mathbf 0_2} &amp; \\phantom{\\mathbf 0_2} &amp; \\phantom{\\mathbf 0_2} \\\\\n",
    "  \\phantom{\\mathbf 0_2} &amp; \\phantom{\\mathbf 0_2} &amp; \\phantom{\\mathbf 0_2} &amp; \\phantom{\\mathbf 0_2} \\\\\n",
    "  \\phantom{\\mathbf 0_2} &amp; \\phantom{\\mathbf 0_2} &amp; X &amp; \\mathbf 0_2 \\\\\n",
    "  \\phantom{\\mathbf 0_2} &amp; \\phantom{\\mathbf 0_2} &amp; {\\mathbf 0_2} &amp; X\n",
    "\\end{bmatrix}\n",
    "\\end{alignat}\n",
    "$$"
   ]
  }
 ],
 "metadata": {
  "kernelspec": {
   "display_name": "Python 3",
   "language": "python",
   "name": "python3"
  },
  "language_info": {
   "codemirror_mode": {
    "name": "ipython",
    "version": 3
   },
   "file_extension": ".py",
   "mimetype": "text/x-python",
   "name": "python",
   "nbconvert_exporter": "python",
   "pygments_lexer": "ipython3",
   "version": "3.7.5"
  }
 },
 "nbformat": 4,
 "nbformat_minor": 2
}
